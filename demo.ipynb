{
 "cells": [
  {
   "cell_type": "code",
   "execution_count": 1,
   "metadata": {
    "scrolled": true
   },
   "outputs": [
    {
     "name": "stderr",
     "output_type": "stream",
     "text": [
      "/home/cc/code/table_discovery_project/pyenv/s2ld/lib/python3.7/site-packages/tqdm/auto.py:22: TqdmWarning: IProgress not found. Please update jupyter and ipywidgets. See https://ipywidgets.readthedocs.io/en/stable/user_install.html\n",
      "  from .autonotebook import tqdm as notebook_tqdm\n"
     ]
    }
   ],
   "source": [
    "import pandas as pd\n",
    "import tester\n",
    "from trainer import read_tables\n",
    "import os\n",
    "import argparse\n",
    "import json\n",
    "from IPython.display import display, clear_output\n",
    "import time\n"
   ]
  },
  {
   "cell_type": "code",
   "execution_count": 2,
   "metadata": {},
   "outputs": [],
   "source": [
    "def get_args(dataset):\n",
    "    work_dir=os.path.abspath('..')\n",
    "    test_args = argparse.Namespace(work_dir=work_dir,\n",
    "                                   query_dir='demo_query',\n",
    "                                   dataset=dataset)\n",
    "    return test_args"
   ]
  },
  {
   "cell_type": "code",
   "execution_count": 3,
   "metadata": {},
   "outputs": [],
   "source": [
    "def create_query_file(data_dir, question):\n",
    "    file_name = 'fusion_query.jsonl'\n",
    "    data_file = os.path.join(data_dir, file_name)\n",
    "    query_data = {\n",
    "        \"id\":0,\n",
    "        \"question\":question,\n",
    "        \"table_id_lst\":['N/A'],\n",
    "        \"answers\":[\"N/A\"],\n",
    "        \"ctxs\": [{\"title\": \"\", \"text\": \"This is a example passage.\"}]\n",
    "    }\n",
    "    with open(data_file, 'w') as f_o:\n",
    "        f_o.write(json.dumps(query_data) + '\\n')\n",
    "    "
   ]
  },
  {
   "cell_type": "code",
   "execution_count": 4,
   "metadata": {},
   "outputs": [],
   "source": [
    "def show_results(question, out_dir, table_dict):\n",
    "    data_file = os.path.join(out_dir, 'pred_epoch_0_None.jsonl')\n",
    "    with open(data_file) as f:\n",
    "        item = json.load(f)\n",
    "    tag_lst = item['tags']\n",
    "    N = 5\n",
    "    pred_table_set = set()\n",
    "    for tag in tag_lst:\n",
    "        table_id = tag['table_id']\n",
    "        if table_id not in pred_table_set:\n",
    "            pred_table_set.add(table_id)\n",
    "            table = table_dict[table_id]\n",
    "            show_table(question, table, len(pred_table_set))\n",
    "        if len(pred_table_set) >= 5:\n",
    "            return\n",
    "    \n",
    "def show_table(question, table, seq_no):\n",
    "    print(\"Question, %s\" % question)\n",
    "    print(\"Top %d table,         %s \" % (seq_no, table['documentTitle']))\n",
    "    col_lst = table['columns']\n",
    "    col_names = [a['text'] for a in col_lst]\n",
    "    row_lst = table['rows']\n",
    "    row_data = []\n",
    "    for row_item in row_lst:\n",
    "        cell_lst = row_item['cells']\n",
    "        row_item = [a['text'] for a in cell_lst]\n",
    "        row_data.append(row_item)\n",
    "    df = pd.DataFrame(row_data,columns=col_names)\n",
    "    display(df)\n",
    "    "
   ]
  },
  {
   "cell_type": "code",
   "execution_count": 7,
   "metadata": {
    "scrolled": true
   },
   "outputs": [
    {
     "ename": "FileNotFoundError",
     "evalue": "[Errno 2] No such file or directory: '/home/cc/code/table_discovery_project/open_table_discovery/output/fetaqa/test_ccdcef11-d7b8-4d51-8195-ea00b05c8030/pred_None.jsonl'",
     "output_type": "error",
     "traceback": [
      "\u001b[0;31m---------------------------------------------------------------------------\u001b[0m",
      "\u001b[0;31mFileNotFoundError\u001b[0m                         Traceback (most recent call last)",
      "\u001b[0;32m/tmp/ipykernel_13493/4256394593.py\u001b[0m in \u001b[0;36m<module>\u001b[0;34m\u001b[0m\n\u001b[1;32m     16\u001b[0m     \u001b[0mout_dir\u001b[0m \u001b[0;34m=\u001b[0m \u001b[0mtester\u001b[0m\u001b[0;34m.\u001b[0m\u001b[0mmain\u001b[0m\u001b[0;34m(\u001b[0m\u001b[0margs\u001b[0m\u001b[0;34m,\u001b[0m \u001b[0mtable_data\u001b[0m\u001b[0;34m=\u001b[0m\u001b[0mtable_dict\u001b[0m\u001b[0;34m,\u001b[0m \u001b[0mindex_obj\u001b[0m\u001b[0;34m=\u001b[0m\u001b[0mindex_obj\u001b[0m\u001b[0;34m)\u001b[0m\u001b[0;34m\u001b[0m\u001b[0;34m\u001b[0m\u001b[0m\n\u001b[1;32m     17\u001b[0m     \u001b[0mclear_output\u001b[0m\u001b[0;34m(\u001b[0m\u001b[0mwait\u001b[0m\u001b[0;34m=\u001b[0m\u001b[0;32mFalse\u001b[0m\u001b[0;34m)\u001b[0m\u001b[0;34m\u001b[0m\u001b[0;34m\u001b[0m\u001b[0m\n\u001b[0;32m---> 18\u001b[0;31m     \u001b[0mshow_results\u001b[0m\u001b[0;34m(\u001b[0m\u001b[0mquestion\u001b[0m\u001b[0;34m,\u001b[0m \u001b[0mout_dir\u001b[0m\u001b[0;34m,\u001b[0m \u001b[0mtable_dict\u001b[0m\u001b[0;34m)\u001b[0m\u001b[0;34m\u001b[0m\u001b[0;34m\u001b[0m\u001b[0m\n\u001b[0m\u001b[1;32m     19\u001b[0m     \u001b[0mtime\u001b[0m\u001b[0;34m.\u001b[0m\u001b[0msleep\u001b[0m\u001b[0;34m(\u001b[0m\u001b[0;36m1\u001b[0m\u001b[0;34m)\u001b[0m\u001b[0;34m\u001b[0m\u001b[0;34m\u001b[0m\u001b[0m\n\u001b[1;32m     20\u001b[0m     \u001b[0mquestion\u001b[0m \u001b[0;34m=\u001b[0m \u001b[0minput\u001b[0m\u001b[0;34m(\u001b[0m\u001b[0;34m'Type a question (q to quit),\\n'\u001b[0m\u001b[0;34m)\u001b[0m\u001b[0;34m.\u001b[0m\u001b[0mstrip\u001b[0m\u001b[0;34m(\u001b[0m\u001b[0;34m)\u001b[0m\u001b[0;34m\u001b[0m\u001b[0;34m\u001b[0m\u001b[0m\n",
      "\u001b[0;32m/tmp/ipykernel_13493/1540044622.py\u001b[0m in \u001b[0;36mshow_results\u001b[0;34m(question, out_dir, table_dict)\u001b[0m\n\u001b[1;32m      1\u001b[0m \u001b[0;32mdef\u001b[0m \u001b[0mshow_results\u001b[0m\u001b[0;34m(\u001b[0m\u001b[0mquestion\u001b[0m\u001b[0;34m,\u001b[0m \u001b[0mout_dir\u001b[0m\u001b[0;34m,\u001b[0m \u001b[0mtable_dict\u001b[0m\u001b[0;34m)\u001b[0m\u001b[0;34m:\u001b[0m\u001b[0;34m\u001b[0m\u001b[0;34m\u001b[0m\u001b[0m\n\u001b[1;32m      2\u001b[0m     \u001b[0mdata_file\u001b[0m \u001b[0;34m=\u001b[0m \u001b[0mos\u001b[0m\u001b[0;34m.\u001b[0m\u001b[0mpath\u001b[0m\u001b[0;34m.\u001b[0m\u001b[0mjoin\u001b[0m\u001b[0;34m(\u001b[0m\u001b[0mout_dir\u001b[0m\u001b[0;34m,\u001b[0m \u001b[0;34m'pred_None.jsonl'\u001b[0m\u001b[0;34m)\u001b[0m\u001b[0;34m\u001b[0m\u001b[0;34m\u001b[0m\u001b[0m\n\u001b[0;32m----> 3\u001b[0;31m     \u001b[0;32mwith\u001b[0m \u001b[0mopen\u001b[0m\u001b[0;34m(\u001b[0m\u001b[0mdata_file\u001b[0m\u001b[0;34m)\u001b[0m \u001b[0;32mas\u001b[0m \u001b[0mf\u001b[0m\u001b[0;34m:\u001b[0m\u001b[0;34m\u001b[0m\u001b[0;34m\u001b[0m\u001b[0m\n\u001b[0m\u001b[1;32m      4\u001b[0m         \u001b[0mitem\u001b[0m \u001b[0;34m=\u001b[0m \u001b[0mjson\u001b[0m\u001b[0;34m.\u001b[0m\u001b[0mload\u001b[0m\u001b[0;34m(\u001b[0m\u001b[0mf\u001b[0m\u001b[0;34m)\u001b[0m\u001b[0;34m\u001b[0m\u001b[0;34m\u001b[0m\u001b[0m\n\u001b[1;32m      5\u001b[0m     \u001b[0mtag_lst\u001b[0m \u001b[0;34m=\u001b[0m \u001b[0mitem\u001b[0m\u001b[0;34m[\u001b[0m\u001b[0;34m'tags'\u001b[0m\u001b[0;34m]\u001b[0m\u001b[0;34m\u001b[0m\u001b[0;34m\u001b[0m\u001b[0m\n",
      "\u001b[0;31mFileNotFoundError\u001b[0m: [Errno 2] No such file or directory: '/home/cc/code/table_discovery_project/open_table_discovery/output/fetaqa/test_ccdcef11-d7b8-4d51-8195-ea00b05c8030/pred_None.jsonl'"
     ]
    }
   ],
   "source": [
    "dataset=input('Type the dataset, ')\n",
    "args = get_args(dataset)\n",
    "print('Loading tables')\n",
    "table_dict = read_tables(args.work_dir, dataset)\n",
    "print('Loading index')\n",
    "args.table_repre = 'rel_graph'\n",
    "index_obj = tester.get_index_obj(args.work_dir, dataset, args)\n",
    "data_dir = os.path.join(args.work_dir, 'data', dataset, 'demo_query', 'test')\n",
    "if not os.path.isdir(data_dir):\n",
    "    os.makedirs(data_dir)\n",
    "question = input('Type a question (q to quit),\\n').strip()\n",
    "args.train_model_dir = None\n",
    "args.bnn = 1\n",
    "while question != 'q':\n",
    "    create_query_file(data_dir, question)\n",
    "    out_dir = tester.main(args, table_data=table_dict, index_obj=index_obj)\n",
    "    clear_output(wait=False)\n",
    "    show_results(question, out_dir, table_dict)\n",
    "    time.sleep(1)\n",
    "    question = input('Type a question (q to quit),\\n').strip()\n",
    "    "
   ]
  },
  {
   "cell_type": "markdown",
   "metadata": {},
   "source": [
    "Example questions in fetaqa dataset,\n",
    "\n",
    "1. What shows did Marisol Nichols appear in during 1996?\n",
    "\n",
    "2. What and when were Tom Felton's first two roles?\n",
    "\n",
    "3. How close was Texas' 21st congressional district election?"
   ]
  }
 ],
 "metadata": {
  "kernelspec": {
   "display_name": "fusion_decoder",
   "language": "python",
   "name": "fusion_decoder"
  },
  "language_info": {
   "codemirror_mode": {
    "name": "ipython",
    "version": 3
   },
   "file_extension": ".py",
   "mimetype": "text/x-python",
   "name": "python",
   "nbconvert_exporter": "python",
   "pygments_lexer": "ipython3",
   "version": "3.7.9"
  }
 },
 "nbformat": 4,
 "nbformat_minor": 2
}
